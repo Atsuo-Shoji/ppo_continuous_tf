{
 "cells": [
  {
   "cell_type": "code",
   "execution_count": null,
   "metadata": {
    "id": "b1ilWgp9d67d"
   },
   "outputs": [],
   "source": [
    "#Google Colaboratoryで実行する場合\n",
    "from google.colab import drive\n",
    "drive.mount(\"/content/drive\", force_remount=True)"
   ]
  },
  {
   "cell_type": "code",
   "execution_count": 3,
   "metadata": {
    "executionInfo": {
     "elapsed": 2172,
     "status": "ok",
     "timestamp": 1606829121273,
     "user": {
      "displayName": "Atsuo Shoji",
      "photoUrl": "https://lh3.googleusercontent.com/a-/AOh14Gh_jUNM9qFLPoNZHc5s0K2GWtdcvPNCzv49h0T5Eg=s64",
      "userId": "10481992883555145248"
     },
     "user_tz": -540
    },
    "id": "K6Lc8Wgdelkc"
   },
   "outputs": [],
   "source": [
    "#Google Colaboratoryで実行する場合\n",
    "import os\n",
    "os.chdir('/content/drive/My Drive/hoge/')"
   ]
  },
  {
   "cell_type": "code",
   "execution_count": null,
   "metadata": {
    "id": "k-uNTy4Sd1Dw"
   },
   "outputs": [],
   "source": [
    "#実行環境に無い場合だけ\n",
    "!pip install gym"
   ]
  },
  {
   "cell_type": "code",
   "execution_count": null,
   "metadata": {
    "id": "igOkWim1d1Dx"
   },
   "outputs": [],
   "source": [
    "#実行環境に無い場合、且つBipedalWalkerHardcore-v3を使用する場合だけ\n",
    "!pip install box2d-py"
   ]
  },
  {
   "cell_type": "code",
   "execution_count": 4,
   "metadata": {
    "executionInfo": {
     "elapsed": 1579,
     "status": "ok",
     "timestamp": 1606829178245,
     "user": {
      "displayName": "Atsuo Shoji",
      "photoUrl": "https://lh3.googleusercontent.com/a-/AOh14Gh_jUNM9qFLPoNZHc5s0K2GWtdcvPNCzv49h0T5Eg=s64",
      "userId": "10481992883555145248"
     },
     "user_tz": -540
    },
    "id": "xjyMA_W2d1Dx"
   },
   "outputs": [],
   "source": [
    "import gym\n",
    "from common.env_wrappers import *\n",
    "from Agent import *\n",
    "from PPOAgentTrainer import *"
   ]
  },
  {
   "cell_type": "code",
   "execution_count": null,
   "metadata": {
    "id": "BAIJUGltd1Dx"
   },
   "outputs": [],
   "source": [
    "#環境準備\n",
    "#BipedalWalkerを活性化\n",
    "\n",
    "BipedalWalkerHardcore-v3\n",
    "env = gym.make(\"BipedalWalkerHardcore-v3\") \n",
    "env_wrapper = EnvWrapper_01(env, max_steps_episode=2000, reward_for_successful_episode=1, reward_for_failed_episode=-1)\n",
    "\n",
    "st_dim = env.observation_space.shape[0]\n",
    "print(\"st_dim:\", st_dim)\n",
    "ac_dim = env.action_space.shape[0]\n",
    "print(\"ac_dim:\", ac_dim)"
   ]
  },
  {
   "cell_type": "code",
   "execution_count": 7,
   "metadata": {
    "executionInfo": {
     "elapsed": 8401,
     "status": "ok",
     "timestamp": 1606829204351,
     "user": {
      "displayName": "Atsuo Shoji",
      "photoUrl": "https://lh3.googleusercontent.com/a-/AOh14Gh_jUNM9qFLPoNZHc5s0K2GWtdcvPNCzv49h0T5Eg=s64",
      "userId": "10481992883555145248"
     },
     "user_tz": -540
    },
    "id": "LZDNufFXd1Dx"
   },
   "outputs": [],
   "source": [
    "#Agentのインスタンス生成\n",
    "agent = Agent(\"Agent\", st_dim, ac_dim)\n",
    "\n",
    "#Trainerのインスタンス生成\n",
    "trainer = PPOAgentTrainer(\"Trainer\", env_wrapper, agent)\n"
   ]
  },
  {
   "cell_type": "code",
   "execution_count": null,
   "metadata": {
    "id": "HgipSVIid1Dx"
   },
   "outputs": [],
   "source": [
    "#訓練実施\n",
    "\n",
    "epochs=500 #エポック数\n",
    "trajectory_size = 20480 #経験データ（trajectory）のサイズ\n",
    "lamda_GAE = 0.95 #GAEのλ\n",
    "gamma = 0.99 #GAEの割引率γ\n",
    "batch_size = 2048 #バッチサイズ\n",
    "clip_range = 0.2 #ratioのクリップ幅\n",
    "loss_actor_entropy_coef = 0.1 #Actor（Policy側）のLossにおける、方策エントロピー補正項の係数\n",
    "verbose_interval = 1 #何エポック毎に訓練評価結果を出力するか\n",
    "#注意）上記のエポック数と経験データ（trajectory）のサイズの場合、Google Colaboratoryで実行すると、8～9時間かかります。\n",
    "\n",
    "#訓練\n",
    "results = trainer.train(epochs=epochs, trajectory_size=trajectory_size, lamda_GAE=lamda_GAE, gamma=gamma, batch_size=batch_size, \n",
    "                        clip_range=clip_range, loss_actor_entropy_coef=loss_actor_entropy_coef, verbose_interval=verbose_interval)\n",
    "\n",
    "#resultsはDictionaryで、訓練評価結果とtrain()関数の引数が格納されています。\n",
    "#何が格納されており、keyは何か、については、PPOAgentTrainer.pyのclass PPOAgentTrainerのtrain()の最後を見ればわかります。"
   ]
  }
 ],
 "metadata": {
  "accelerator": "GPU",
  "colab": {
   "collapsed_sections": [],
   "name": "training.ipynb",
   "provenance": []
  },
  "kernelspec": {
   "display_name": "Python 3",
   "language": "python",
   "name": "python3"
  },
  "language_info": {
   "codemirror_mode": {
    "name": "ipython",
    "version": 3
   },
   "file_extension": ".py",
   "mimetype": "text/x-python",
   "name": "python",
   "nbconvert_exporter": "python",
   "pygments_lexer": "ipython3",
   "version": "3.7.6"
  }
 },
 "nbformat": 4,
 "nbformat_minor": 1
}
